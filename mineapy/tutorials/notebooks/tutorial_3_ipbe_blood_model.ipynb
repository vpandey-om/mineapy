{
 "cells": [
  {
   "cell_type": "code",
   "execution_count": 1,
   "id": "777b9591-95d1-4a60-bb27-04e1d7df63f9",
   "metadata": {},
   "outputs": [
    {
     "name": "stdout",
     "output_type": "stream",
     "text": [
      "Set parameter Username\n",
      "Academic license - for non-commercial use only - expires 2025-08-20\n"
     ]
    }
   ],
   "source": [
    "# import libraries \n",
    "import mineapy\n",
    "from cobra.io import load_matlab_model,load_json_model\n",
    "import pandas as pd\n",
    "from mineapy.core.taskEnrich import TaskEnrichment\n",
    "from mineapy.core.thermo_model import ThermoModel_WithoutInfo\n",
    "from mineapy.core.rxnExp import ReactionExp\n",
    "import sys\n",
    "import os\n",
    "import pickle\n",
    "# Add the path to the tutorials directory to sys.path\n",
    "sys.path.append(os.path.abspath(os.path.join('..')))\n",
    "\n",
    "#print(os.path.abspath(os.path.join('..')))\n",
    "\n",
    "from data_utility import getLiverStage"
   ]
  },
  {
   "cell_type": "markdown",
   "id": "06dee7f0-de89-4c65-b0a8-b82a49148ce0",
   "metadata": {},
   "source": [
    "## Get gene expression data at exo-erythrocytic stage for plasmodium beghei\n",
    "To understand the enriched minimal network at the exo-erythrocytic stage, data is sourced from this [publication](https://malariajournal.biomedcentral.com/articles/10.1186/s12936-019-2968-7).\n",
    "- Caldelari R, Dogga S, Schmid MW, Franke-Fayard B, Janse CJ, Soldati-Favre D, Heussler V. Transcriptome analysis of Plasmodium berghei during exo-erythrocytic development. Malar J. 2019 Sep 24;18(1):330. doi: 10.1186/s12936-019-2968-7. PMID: 31551073; PMCID: PMC6760107.\n"
   ]
  },
  {
   "cell_type": "code",
   "execution_count": 2,
   "id": "a1c1d657-b3c0-4db6-ada5-aa6a4eff9ff4",
   "metadata": {},
   "outputs": [
    {
     "name": "stdout",
     "output_type": "stream",
     "text": [
      "          Gene ID                            Product Description  EEF_54h_A  \\\n",
      "0  PBANKA_0100061                                  fam-c protein         39   \n",
      "1  PBANKA_0100200  Plasmodium exported protein, unknown function        189   \n",
      "2  PBANKA_0100700  Plasmodium exported protein, unknown function        201   \n",
      "3  PBANKA_0100800                  zinc finger protein, putative        242   \n",
      "4  PBANKA_0100900           ATP-dependent RNA helicase, putative        770   \n",
      "\n",
      "   EEF_54h_B  RPKM_EEF_54h_A  RPKM_EEF_54h_B     Mean_RPKM  \n",
      "0         16    4.187801e+07    4.129695e+07  4.158748e+07  \n",
      "1         79    8.129760e+07    8.168072e+07  8.148916e+07  \n",
      "2        156    9.182950e+07    1.713118e+08  1.315707e+08  \n",
      "3        110    2.574158e+07    2.812478e+07  2.693318e+07  \n",
      "4        321    8.706738e+07    8.724616e+07  8.715677e+07  \n"
     ]
    },
    {
     "name": "stderr",
     "output_type": "stream",
     "text": [
      "/Users/vpandey/opt/miniconda3/envs/test37/lib/python3.7/site-packages/pandas/core/frame.py:5047: SettingWithCopyWarning: \n",
      "A value is trying to be set on a copy of a slice from a DataFrame\n",
      "\n",
      "See the caveats in the documentation: https://pandas.pydata.org/pandas-docs/stable/user_guide/indexing.html#returning-a-view-versus-a-copy\n",
      "  errors=errors,\n"
     ]
    }
   ],
   "source": [
    "# This function load the gene expression data\n",
    "df=getLiverStage()\n",
    "print(df.head())"
   ]
  },
  {
   "cell_type": "markdown",
   "id": "ef65f6e9-f660-473c-a918-dc6efeb9a9a3",
   "metadata": {},
   "source": [
    "## Get the metabolic model for plasmodium berghei\n",
    "The MATLAB version of the metabolic model for Plasmodium berghei can be found in this [publication](https://pubmed.ncbi.nlm.nih.gov/31730853/).\n",
    "- Stanway RR, Bushell E, Chiappino-Pepe A, Roques M, Sanderson T, Franke-Fayard B, Caldelari R, Golomingi M, Nyonda M, Pandey V, Schwach F, Chevalley S, Ramesar J, Metcalf T, Herd C, Burda PC, Rayner JC, Soldati-Favre D, Janse CJ, Hatzimanikatis V, Billker O, Heussler VT. Genome-Scale Identification of Essential Metabolic Processes for Targeting the Plasmodium Liver Stage. Cell. 2019 Nov 14;179(5):1112-1128.e26. doi: 10.1016/j.cell.2019.10.030. PMID: 31730853; PMCID: PMC6904910."
   ]
  },
  {
   "cell_type": "code",
   "execution_count": 3,
   "id": "ce67acba-8249-410e-812a-ab3ec3d23eae",
   "metadata": {},
   "outputs": [
    {
     "name": "stdout",
     "output_type": "stream",
     "text": [
      "Read LP format model from file /var/folders/ty/spqw6k0n4dn1yvpgn_swvjm80000gn/T/tmpiw8c0b1q.lp\n",
      "Reading time = 0.03 seconds\n",
      ": 8651 rows, 9012 columns, 28182 nonzeros\n",
      "Read LP format model from file /var/folders/ty/spqw6k0n4dn1yvpgn_swvjm80000gn/T/tmpu9ib1ywp.lp\n",
      "Reading time = 0.01 seconds\n",
      ": 1409 rows, 3136 columns, 11056 nonzeros\n",
      "Solution found : 0.14107\n",
      "['PBANKA_1014100', 'PBANKA_1024100', 'PBANKA_0416500', 'PBANKA_0942700', 'PBANKA_1446300', 'PBANKA_1140200', 'PBANKA_0609800', 'PBANKA_1344100', 'PBANKA_0908500', 'PBANKA_0710800', 'PBANKA_0818600', 'PBANKA_1014800', 'PBANKA_1444500', 'PBANKA_0312700', 'PBANKA_0514100', 'PBANKA_1009500', 'PBANKA_0824700', 'PBANKA_1023400', 'PBANKA_1143400', 'PBANKA_1317200', 'PBANKA_1207200', 'PBANKA_0202800', 'PBANKA_1307600', 'PBANKA_1406700', 'PBANKA_1142400', 'PBANKA_0104400', 'PBANKA_0202300', 'PBANKA_1213400', 'PBANKA_0823100', 'PBANKA_1344400', 'PBANKA_1210800', 'PBANKA_1419800', 'PBANKA_1333700', 'PBANKA_1419900', 'PBANKA_0607900', 'PBANKA_1235600', 'PBANKA_1125600', 'PBANKA_0611100', 'PBANKA_1126500', 'putative_PBANKA_1228200', 'PBANKA_1026200', 'PBANKA_0827500', 'PBANKA_1122900', 'PBANKA_1355900', 'PBANKA_1017900', 'PBANKA_0302300', 'PBANKA_1356600', 'PBANKA_1136700', 'PBANKA_0910300', 'PBANKA_1003400', 'PBANKA_1111800', 'PBANKA_1133300', 'PBANKA_1133400', 'PBANKA_0924900', 'PBANKA_1135400', 'PBANKA_0414800', 'PBANKA_1032300', 'PBANKA_0407600', 'PBANKA_1228000', 'PBANKA_0825200', 'PBANKA_1214300', 'PBANKA_0107400', 'PBANKA_0516900', 'PBANKA_1343800', 'PBANKA_0509300', 'PBANKA_1022300', 'PBANKA_1423700', 'PBANKA_0819800', 'PBANKA_1309900', 'PBANKA_0719300', 'PBANKA_1340000', 'PBANKA_1450200', 'PBANKA_0507400', 'PBANKA_0806500', 'PBANKA_1040100', 'PBANKA_1343000', 'PBANKA_1340300', 'PBANKA_1442600', 'PBANKA_1114200', 'putative_PBANKA_0715500', 'PBANKA_1210900', 'PBANKA_1326400', 'PBANKA_0505800', 'PBANKA_0109100', 'PBANKA_1308600', 'PBANKA_0304300', 'PBANKA_0821700', 'PBANKA_1131100', 'PBANKA_1211000', 'PBANKA_1134200', 'PBANKA_0311800', 'PBANKA_1239900', 'PBANKA_1355200', 'PBANKA_0923700', 'PBANKA_0823400', 'PBANKA_0928100', 'PBANKA_1318400', 'PBANKA_1435100', 'PBANKA_0513600', 'PBANKA_0521600', 'PBANKA_0919800', 'PBANKA_1121900', 'PBANKA_0823300', 'PBANKA_1127700', 'PBANKA_1004000', 'PBANKA_1032600', 'PBANKA_1414100', 'PBANKA_1112400', 'PBANKA_1415100', 'PBANKA_0919300', 'PBANKA_0611600', 'PBANKA_1036600', 'PBANKA_0108000', 'PBANKA_1317500', 'PBANKA_1360500', 'PBANKA_1464200', 'PBANKA_0213200', 'PBANKA_1304400', 'PBANKA_1008800', 'PBANKA_1128100', 'PBANKA_0930500', 'PBANKA_1222800', 'PBANKA_1421300', 'PBANKA_1143600', 'PBANKA_1426700', 'PBANKA_1232300', 'PBANKA_0906600', 'PBANKA_1109400', 'PBANKA_0722000', 'PBANKA_1114900', 'PBANKA_1039900', 'PBANKA_1211900', 'PBANKA_0811600', 'PBANKA_1434200', 'PBANKA_1109200', 'PBANKA_0308600', 'PBANKA_1213600', 'PBANKA_1346600', 'PBANKA_1022800', 'PBANKA_1308900', 'PBANKA_1347700', 'PBANKA_1121700', 'PBANKA_1362900', 'PBANKA_0518700', 'PBANKA_0102500', 'PBANKA_0942900', 'PBANKA_0203800', 'PBANKA_1429600', 'PBANKA_0615400', 'PBANKA_1431700', 'PBANKA_0922300', 'PBANKA_1350700', 'PBANKA_1325600', 'PBANKA_0718100', 'PBANKA_1127500', 'PBANKA_1411600', 'PBANKA_1118700', 'PBANKA_0210200', 'PBANKA_1362000', 'PBANKA_1212400', 'PBANKA_0704200', 'PBANKA_1111400', 'PBANKA_0931800', 'PBANKA_1120200', 'PBANKA_0918200', 'PBANKA_0603800', 'PBANKA_1113000', 'PBANKA_1124900', 'PBANKA_1014400', 'PBANKA_0300800', 'PBANKA_0927800', 'PBANKA_0816400', 'putative_PBANKA_0919900', 'PBANKA_0203100', 'PBANKA_1340100', 'PBANKA_1340400', 'PBANKA_1117700', 'PBANKA_1322100', 'PBANKA_1362200', 'PBANKA_1310100', 'PBANKA_0923800', 'PBANKA_1304100', 'PBANKA_0608000', 'PBANKA_0520000', 'PBANKA_1014000', 'PBANKA_0610500', 'PBANKA_0809300', 'PBANKA_1332800', 'PBANKA_0932900', 'PBANKA_1431900', 'PBANKA_1416700', 'PBANKA_1303800', 'PBANKA_0815000', 'PBANKA_0606100', 'PBANKA_1453300', 'PBANKA_1410500', 'PBANKA_0714900', 'PBANKA_0604400', 'PBANKA_0823800', 'PBANKA_0505000', 'PBANKA_0105900', 'PBANKA_0814900', 'PBANKA_1133500', 'PBANKA_0834800', 'PBANKA_1440000', 'PBANKA_0702500', 'PBANKA_1025900', 'PBANKA_1203300', 'PBANKA_1446700', 'PBANKA_0826100', 'PBANKA_1464700', 'PBANKA_0409200', 'PBANKA_1125100', 'PBANKA_1338200', 'PBANKA_1229800', 'PBANKA_1114000', 'PBANKA_1102800', 'PBANKA_1351000', 'PBANKA_1330600', 'PBANKA_0208700', 'PBANKA_0707000', 'PBANKA_1357500', 'PBANKA_0824500', 'PBANKA_0507000', 'PBANKA_0614300', 'PBANKA_1027000', 'PBANKA_1428500', 'PBANKA_0907400', 'PBANKA_0710600', 'PBANKA_1319600', 'PBANKA_0828700', 'PBANKA_1110700', 'PBANKA_1216200', 'PBANKA_1007100', 'PBANKA_1127000', 'PBANKA_0609300', 'PBANKA_1460300', 'PBANKA_1354700', 'PBANKA_1429900', 'PBANKA_1142700', 'PBANKA_0204300', 'PBANKA_0820900', 'PBANKA_0522400', 'PBANKA_1346500', 'PBANKA_0912700', 'PBANKA_0810400', 'PBANKA_0104700', 'PBANKA_1314600', 'PBANKA_1358600', 'PBANKA_1140700', 'PBANKA_0506700', 'PBANKA_1013200', 'PBANKA_0938500', 'PBANKA_0710100', 'PBANKA_1459200', 'PBANKA_0404800', 'PBANKA_1236100', 'PBANKA_0828100', 'PBANKA_0915500', 'PBANKA_1116300', 'PBANKA_1446900', 'PBANKA_0102100', 'PBANKA_1419100', 'PBANKA_1141300', 'PBANKA_1357000', 'PBANKA_0602600', 'PBANKA_1439500', 'PBANKA_0402300', 'PBANKA_1454400', 'PBANKA_0512200', 'PBANKA_0302700', 'PBANKA_1028200', 'PBANKA_0621800', 'PBANKA_0106100', 'PBANKA_0617900', 'PBANKA_1234100', 'putative_PBANKA_1409500', 'PBANKA_0211300', 'PBANKA_1411100', 'PBANKA_1104200', 'PBANKA_1413100', 'PBANKA_1430800', 'putative_PBANKA_1122100', 'putative_PBANKA_0909300', 'PBANKA_1346000', 'PBANKA_1123500', 'PBANKA_0612800', 'PBANKA_0508100', 'PBANKA_0522900', 'PBANKA_1303000', 'PBANKA_1128500', 'PBANKA_0702900', 'PBANKA_1001600', 'PBANKA_1428800', 'PBANKA_0518200', 'PBANKA_0520200', 'PBANKA_1107900', 'PBANKA_1244600', 'PBANKA_0414400', 'PBANKA_0308200', 'putative_PBANKA_0816000', 'putative_PBANKA_1017700', 'putative_PBANKA_1210700', 'putative_PBANKA_1303300', 'putative_PBANKA_MIT01900', 'PBANKA_1009800', 'PBANKA_1013800', 'PBANKA_MIT01100', 'PBANKA_MIT01800', 'putative_PBANKA_0901400', 'putative_PBANKA_1408500', 'putative_PBANKA_1409800', 'putative_PBANKA_0923200', 'putative_PBANKA_0313800', 'putative_PBANKA_1421800', 'putative_PBANKA_0803500', 'putative_PBANKA_1450300', 'PBANKA_0814300', 'PBANKA_1230800', 'PBANKA_1235300', 'PBANKA_0611900', 'PBANKA_0823500', 'PBANKA_0936100', 'PBANKA_0829700', 'PBANKA_0618300', 'PBANKA_1438900', 'PBANKA_0819000', 'PBANKA_1444000', 'PBANKA_1038300', 'PBANKA_0501700', 'PBANKA_1228400', 'PBANKA_0921300', 'PBANKA_0401800', 'PBANKA_0831200', 'PBANKA_1308200', 'PBANKA_1317400', 'PBANKA_1023900', 'PBANKA_0933900', 'PBANKA_1461000', 'putative_PBANKA_0611400', 'PBANKA_1022600', 'PBANKA_0714700', 'PBANKA_0803200', 'PBANKA_1437400', 'PBANKA_1010700', 'PBANKA_1455600', 'PBANKA_0615100', 'PBANKA_1028100', 'PBANKA_0613600', 'PBANKA_0206400', 'PBANKA_0306400', 'PBANKA_1224300', 'PBANKA_1141200', 'PBANKA_1414600', 'PBANKA_0901600', 'PBANKA_1452000', 'PBANKA_1207300', 'PBANKA_1028900', 'PBANKA_0602500', 'PBANKA_1303600', 'PBANKA_0514600', 'PBANKA_1121100', 'PBANKA_1407400', 'PBANKA_1302800', 'PBANKA_0308400', 'putative_PBANKA_0303900', 'PBANKA_1342800', 'putative_PBANKA_0802400', 'PBANKA_1127600', 'putative_PBANKA_1334600', 'putative_PBANKA_0813400', 'putative_PBANKA_1441000', 'putative_PBANKA_1035500', 'putative_PBANKA_1218000', 'putative_PBANKA_1129500', 'putative_PBANKA_0909000', 'putative_PBANKA_1448300', 'putative_PBANKA_1017500', 'putative_PBANKA_0304000', 'putative_PBANKA_1308500', 'putative_PBANKA_1033400', 'putative_PBANKA_1140500', 'putative_PBANKA_1227600', 'putative_PBANKA_1449800', 'putative_PBANKA_1320500', 'putative_PBANKA_0414100', 'putative_PBANKA_1123900', 'putative_PBANKA_1124000', 'putative_PBANKA_1453100', 'putative_PBANKA_0306200', 'putative_PBANKA_1035900', 'putative_PBANKA_1237000', 'PBANKA_1364300', 'PBANKA_1357700', 'PBANKA_1336100', 'putative_PBANKA_0109400', 'PBANKA_1217300', 'PBANKA_0931400', 'putative_PBANKA_0308800', 'putative_PBANKA_0934300', 'PBANKA_0815300', 'putative_PBANKA_0701300', 'putative_PBANKA_1009000', 'putative_PBANKA_1360900', 'putative_PBANKA_1116200', 'putative_PBANKA_1126700', 'putative_PBANKA_1323300', 'putative_PBANKA_1227700', 'putative_PBANKA_1337400', 'putative_PBANKA_0706700', 'putative_PBANKA_1438700', 'putative_PBANKA_0306700', 'putative_PBANKA_0209400', 'putative_PBANKA_0303800', 'putative_PBANKA_0943500', 'putative_PBANKA_API00120', 'putative_PBANKA_1029200', 'putative_PBANKA_1237400', 'PBANKA_1230000', 'PBANKA_1123600', 'PBANKA_0812100', 'PBANKA_1118100.2', 'PBANKA_0836100', 'PBANKA_0516200', 'PBANKA_0717600', 'putative_PBANKA_0511000', 'putative_PBANKA_0519800', 'PBANKA_0824100']\n"
     ]
    }
   ],
   "source": [
    "# load the metabolic model and Python version is saved in the models folder. \n",
    "ipbe_blood=pickle.load(open('../models/ipbeblood_py.pickle','rb'))\n",
    "setattr(ipbe_blood, 'annotation',ipbe_blood._annotation)\n",
    "for item in ipbe_blood.metabolites:\n",
    "    setattr(item, 'annotation',item._annotation)\n",
    "for item in ipbe_blood.reactions:\n",
    "    setattr(item, 'annotation',item._annotation)\n",
    "for item in ipbe_blood.genes:\n",
    "    setattr(item, 'annotation',item._annotation)\n",
    "\n",
    "\n",
    "## get biomass reaction \n",
    "biomass = ipbe_blood.reactions.get_by_id('biomass')\n",
    "biomass.lower_bound=0\n",
    "tfa_solution = ipbe_blood.optimize()\n",
    "tfa_value = tfa_solution.objective_value\n",
    "print('Solution found : {0:.5g}'.format(tfa_value))\n",
    "\n",
    "\n",
    "# print genes\n",
    "gene_ids=[g.id for g in ipbe_blood.genes]\n",
    "print(gene_ids)"
   ]
  },
  {
   "cell_type": "markdown",
   "id": "f096a780-7863-4187-81db-f131c5b4fd85",
   "metadata": {},
   "source": [
    "## Get high- and low-expressed reactions form the gene expression data at the exo-erythrocytic stage."
   ]
  },
  {
   "cell_type": "code",
   "execution_count": 4,
   "id": "83fc7548-d41b-4fee-b220-576eb10de869",
   "metadata": {},
   "outputs": [
    {
     "name": "stderr",
     "output_type": "stream",
     "text": [
      "2024-12-10 09:43:10,024 - expression_logger - INFO - start analysis of context (tissue-specific).....\n"
     ]
    },
    {
     "name": "stdout",
     "output_type": "stream",
     "text": [
      " gene value is not found or nan for the reaction = R00243_c\n",
      "why or_vals are empty\n",
      " gene value is not found or nan for the reaction = R01057_c\n",
      " gene value is not found or nan for the reaction = R08639_c\n",
      " gene value is not found or nan for the reaction = R00756_c\n",
      " gene value is not found or nan for the reaction = R01195_m\n",
      " gene value is not found or nan for the reaction = R10159_m\n",
      "why or_vals are empty\n",
      " gene value is not found or nan for the reaction = R02163_m\n",
      "why or_vals are empty\n",
      " gene value is not found or nan for the reaction = R02161_m\n",
      "why or_vals are empty\n",
      " gene value is not found or nan for the reaction = R00086_m\n",
      "why or_vals are empty\n",
      " gene value is not found or nan for the reaction = R02971_c\n",
      " gene value is not found or nan for the reaction = R03018_c\n",
      " gene value is not found or nan for the reaction = R04391_c\n",
      " gene value is not found or nan for the reaction = R02749_c\n",
      " gene value is not found or nan for the reaction = Tc2eC00831_c\n",
      "why or_vals are empty\n",
      " gene value is not found or nan for the reaction = Tc2eC00864_c\n",
      "why or_vals are empty\n",
      " gene value is not found or nan for the reaction = Tc2eC04079_c\n",
      "why or_vals are empty\n",
      " gene value is not found or nan for the reaction = R03035_c\n",
      "why or_vals are empty\n",
      " gene value is not found or nan for the reaction = R02240_c\n",
      "why or_vals are empty\n",
      " gene value is not found or nan for the reaction = R04620_c\n",
      " gene value is not found or nan for the reaction = R04620_c\n",
      "why or_vals are empty\n",
      " gene value is not found or nan for the reaction = R00582_c\n",
      "why or_vals are empty\n",
      " gene value is not found or nan for the reaction = R01268_c\n",
      "why or_vals are empty\n",
      " gene value is not found or nan for the reaction = R01655_c\n",
      "why or_vals are empty\n",
      " gene value is not found or nan for the reaction = R10092_c\n",
      "why or_vals are empty\n",
      " gene value is not found or nan for the reaction = R00650_c\n",
      "why or_vals are empty\n",
      " gene value is not found or nan for the reaction = R02250_c\n",
      "why or_vals are empty\n",
      " gene value is not found or nan for the reaction = R03460_c\n",
      "why or_vals are empty\n",
      " gene value is not found or nan for the reaction = R02412_c\n",
      "why or_vals are empty\n",
      " gene value is not found or nan for the reaction = R02413_c\n",
      " gene value is not found or nan for the reaction = R02413_c\n",
      "why or_vals are empty\n",
      " gene value is not found or nan for the reaction = R03084_c\n",
      "why or_vals are empty\n",
      " gene value is not found or nan for the reaction = R03083_c\n",
      "why or_vals are empty\n",
      " gene value is not found or nan for the reaction = R01036_c\n",
      " gene value is not found or nan for the reaction = R01036_c\n",
      "why or_vals are empty\n",
      " gene value is not found or nan for the reaction = R00089_c\n",
      "why or_vals are empty\n",
      " gene value is not found or nan for the reaction = R00004_c\n",
      " gene value is not found or nan for the reaction = R00004_c\n",
      " gene value is not found or nan for the reaction = R00004_c\n",
      "why or_vals are empty\n",
      " gene value is not found or nan for the reaction = R08969_r\n",
      " gene value is not found or nan for the reaction = R08969_r\n",
      "why or_vals are empty\n",
      " gene value is not found or nan for the reaction = R08969_c\n",
      " gene value is not found or nan for the reaction = R08969_c\n",
      "why or_vals are empty\n",
      " gene value is not found or nan for the reaction = R02541_r\n",
      "why or_vals are empty\n",
      " gene value is not found or nan for the reaction = R01313_c\n",
      "why or_vals are empty\n",
      " gene value is not found or nan for the reaction = R01315_c\n",
      "why or_vals are empty\n",
      " gene value is not found or nan for the reaction = R01030_c\n",
      "why or_vals are empty\n",
      " gene value is not found or nan for the reaction = R00649_c\n",
      "why or_vals are empty\n",
      " gene value is not found or nan for the reaction = R04772_c\n",
      "why or_vals are empty\n",
      " gene value is not found or nan for the reaction = R00408_m\n",
      "why or_vals are empty\n",
      " gene value is not found or nan for the reaction = R02163Men_m\n",
      "why or_vals are empty\n",
      " gene value is not found or nan for the reaction = Tc2rC00096_c\n",
      "why or_vals are empty\n",
      " gene value is not found or nan for the reaction = Tc2rC00029_c\n",
      "why or_vals are empty\n",
      " gene value is not found or nan for the reaction = Tc2rC00325_c\n",
      "why or_vals are empty\n",
      " gene value is not found or nan for the reaction = R01252_c\n",
      "why or_vals are empty\n",
      " gene value is not found or nan for the reaction = R00335_c\n",
      " gene value is not found or nan for the reaction = R00335_c\n",
      " gene value is not found or nan for the reaction = R00335_c\n",
      "why or_vals are empty\n",
      " gene value is not found or nan for the reaction = R04286_c\n",
      "why or_vals are empty\n",
      " gene value is not found or nan for the reaction = R00277_c\n",
      "why or_vals are empty\n",
      " gene value is not found or nan for the reaction = R04404_c\n",
      "why or_vals are empty\n",
      " gene value is not found or nan for the reaction = R00155_c\n",
      "why or_vals are empty\n",
      " gene value is not found or nan for the reaction = R00328_c\n",
      "why or_vals are empty\n",
      " gene value is not found or nan for the reaction = R00961_c\n",
      "why or_vals are empty\n",
      " gene value is not found or nan for the reaction = Tc2mC00149C00026_c\n",
      "why or_vals are empty\n",
      " gene value is not found or nan for the reaction = Tc2mC00036C00026_c\n",
      "why or_vals are empty\n",
      " gene value is not found or nan for the reaction = Tc2mC00158C00026_c\n",
      "why or_vals are empty\n",
      " gene value is not found or nan for the reaction = Tc2eC00334_c\n",
      "why or_vals are empty\n",
      " gene value is not found or nan for the reaction = R08223_c\n",
      "why or_vals are empty\n",
      " gene value is not found or nan for the reaction = R00278_c\n",
      "why or_vals are empty\n",
      " gene value is not found or nan for the reaction = R01710_c\n",
      "why or_vals are empty\n",
      " gene value is not found or nan for the reaction = R01711_c\n",
      "why or_vals are empty\n",
      " gene value is not found or nan for the reaction = R01195_a\n",
      "why or_vals are empty\n",
      " gene value is not found or nan for the reaction = R05875_a\n",
      "why or_vals are empty\n",
      " gene value is not found or nan for the reaction = FeSsyn1_a\n",
      "why or_vals are empty\n",
      " gene value is not found or nan for the reaction = FeSsyn2_a\n",
      "why or_vals are empty\n",
      " gene value is not found or nan for the reaction = FeStran1_a\n",
      "why or_vals are empty\n",
      " gene value is not found or nan for the reaction = FeStran2_a\n",
      "why or_vals are empty\n",
      " gene value is not found or nan for the reaction = R02541_c\n",
      "why or_vals are empty\n",
      " gene value is not found or nan for the reaction = R01074_a\n",
      "why or_vals are empty\n",
      " gene value is not found or nan for the reaction = Tc2rC00024_c\n",
      "why or_vals are empty\n"
     ]
    }
   ],
   "source": [
    "# A value of high_cutoff=0.15 indicates that the top 15% of highly expressed genes.\n",
    "# and the bottom 15% of lowly expressed genes will be selected when low_cutoff=0.15.\n",
    "gene_exp={'gene_id':df['Gene ID'].to_list(),'exp_val':df['Mean_RPKM'].to_list(),'high_cutoff':0.15,'low_cutoff':0.15}\n",
    "\n",
    "exp_analysis=ReactionExp(ipbe_blood,gene_exp=gene_exp)\n",
    "\n",
    "#params_rxns={'up_rxns':reg_analysis.up_rxns,'down_rxns':reg_analysis.down_rxns}\n",
    "params_rxns={'high_rxns':exp_analysis.high_rxns,'low_rxns':exp_analysis.low_rxns}\n",
    "\n"
   ]
  },
  {
   "cell_type": "code",
   "execution_count": 5,
   "id": "a9d73eca-c98d-4619-abf1-0253af51c09b",
   "metadata": {},
   "outputs": [
    {
     "name": "stdout",
     "output_type": "stream",
     "text": [
      "<Solution 0.141 at 0x7f7ff99c1910> <class 'optlang.gurobi_interface.Model'>\n"
     ]
    }
   ],
   "source": [
    "sol=ipbe_blood.optimize()\n",
    "print(sol,type(ipbe_blood.solver))\n"
   ]
  },
  {
   "cell_type": "markdown",
   "id": "78ff5d07-0eff-4c38-9152-ab8ffcccc73d",
   "metadata": {},
   "source": [
    "## Load the MiNEA parameters and apply enrichment"
   ]
  },
  {
   "cell_type": "code",
   "execution_count": null,
   "id": "45888d8e-3b84-43df-8a20-3fecd358a5c7",
   "metadata": {},
   "outputs": [
    {
     "name": "stdout",
     "output_type": "stream",
     "text": [
      "Opened parameters file\n",
      "Read LP format model from file /var/folders/ty/spqw6k0n4dn1yvpgn_swvjm80000gn/T/tmpffoezoek.lp\n",
      "Reading time = 0.01 seconds\n",
      ": 1409 rows, 3136 columns, 11056 nonzeros\n"
     ]
    },
    {
     "name": "stderr",
     "output_type": "stream",
     "text": [
      "2024-12-10 09:43:16,564 - thermomodel_RelaxedModel tutorial_basics - INFO - # Model initialized with units kcal/mol and temperature 298.15 K\n",
      "/Users/vpandey/opt/miniconda3/envs/test37/lib/python3.7/site-packages/sympy/__init__.py:676: SymPyDeprecationWarning: \n",
      "\n",
      "importing sympy.core.numbers with 'from sympy import *' has been\n",
      "deprecated since SymPy 1.6. Use import sympy.core.numbers instead. See\n",
      "https://github.com/sympy/sympy/issues/18245 for more info.\n",
      "\n",
      "  deprecated_since_version=\"1.6\").warn()\n"
     ]
    },
    {
     "name": "stdout",
     "output_type": "stream",
     "text": [
      "Read LP format model from file /var/folders/ty/spqw6k0n4dn1yvpgn_swvjm80000gn/T/tmpk8qg865b.lp\n",
      "Reading time = 0.01 seconds\n",
      ": 1409 rows, 3136 columns, 11056 nonzeros\n"
     ]
    },
    {
     "name": "stderr",
     "output_type": "stream",
     "text": [
      "2024-12-10 09:43:28,684 - thermomodel_RelaxedModel tutorial_basics - INFO - # Model initialized with units kcal/mol and temperature 298.15 K\n",
      "2024-12-10 09:43:34,332 - thermomodel_RelaxedModel tutorial_basics - INFO - Setting minimal growth rate to 95% of the TFA solution\n",
      "2024-12-10 09:43:34,714 - thermomodel_RelaxedModel tutorial_basics - INFO - Setting minimal growth rate to 0.1410658307210131\n",
      "2024-12-10 09:43:34,715 - thermomodel_RelaxedModel tutorial_basics - INFO - Enumerating minmal networks ...\n"
     ]
    },
    {
     "name": "stdout",
     "output_type": "stream",
     "text": [
      "Timeout limit is 1000s\n"
     ]
    },
    {
     "name": "stderr",
     "output_type": "stream",
     "text": [
      "2024-12-10 09:43:42,214 - thermomodel_RelaxedModel tutorial_basics - INFO - # Model preparation starting...\n"
     ]
    },
    {
     "name": "stdout",
     "output_type": "stream",
     "text": [
      "Preparing metabolic tasks...\n"
     ]
    },
    {
     "name": "stderr",
     "output_type": "stream",
     "text": [
      "2024-12-10 09:43:43,849 - thermomodel_RelaxedModel tutorial_basics - WARNING - Warning : C3H5NO2F/F\n",
      "2024-12-10 09:43:43,850 - thermomodel_RelaxedModel tutorial_basics - WARNING - Warning : C9H11N2O9PF/F\n",
      "2024-12-10 09:43:43,851 - thermomodel_RelaxedModel tutorial_basics - WARNING - Warning : C4H2N2O2F/F\n",
      "2024-12-10 09:43:43,852 - thermomodel_RelaxedModel tutorial_basics - WARNING - Warning : C9H11N2O6F/F\n",
      "2024-12-10 09:43:43,866 - thermomodel_RelaxedModel tutorial_basics - WARNING - Warning : C9H11N2O5F/F\n",
      "2024-12-10 09:43:43,866 - thermomodel_RelaxedModel tutorial_basics - WARNING - Warning : C9H12N3O4F/F\n",
      "2024-12-10 09:43:43,979 - thermomodel_RelaxedModel tutorial_basics - WARNING - Warning : C4H2N2O2F/F\n",
      "2024-12-10 09:43:43,980 - thermomodel_RelaxedModel tutorial_basics - WARNING - Warning : C4H2N2O2F/F\n",
      "2024-12-10 09:43:43,983 - thermomodel_RelaxedModel tutorial_basics - WARNING - Warning : C9H11N2O6F/F\n",
      "2024-12-10 09:43:43,984 - thermomodel_RelaxedModel tutorial_basics - WARNING - Warning : C9H11N2O6F/F\n",
      "2024-12-10 09:43:43,993 - thermomodel_RelaxedModel tutorial_basics - WARNING - Warning : C9H11N2O5F/F\n",
      "2024-12-10 09:43:43,994 - thermomodel_RelaxedModel tutorial_basics - WARNING - Warning : C9H11N2O5F/F\n",
      "2024-12-10 09:43:43,995 - thermomodel_RelaxedModel tutorial_basics - WARNING - Warning : C9H12N3O4F/F\n",
      "2024-12-10 09:43:43,996 - thermomodel_RelaxedModel tutorial_basics - WARNING - Warning : C9H12N3O4F/F\n",
      "2024-12-10 09:43:44,570 - thermomodel_RelaxedModel tutorial_basics - WARNING - Warning : C3H5NO2F/F\n",
      "2024-12-10 09:43:44,585 - thermomodel_RelaxedModel tutorial_basics - WARNING - Warning : C9H11N2O9PF/F\n",
      "2024-12-10 09:43:44,619 - thermomodel_RelaxedModel tutorial_basics - INFO - # Model preparation done.\n",
      "2024-12-10 09:43:44,619 - thermomodel_RelaxedModel tutorial_basics - INFO - # Model conversion starting...\n",
      "2024-12-10 09:43:53,407 - thermomodel_RelaxedModel tutorial_basics - INFO - # Model conversion done.\n",
      "2024-12-10 09:43:53,407 - thermomodel_RelaxedModel tutorial_basics - INFO - # Updating cobra_model variables...\n",
      "2024-12-10 09:43:53,443 - thermomodel_RelaxedModel tutorial_basics - INFO - # cobra_model variables are up-to-date\n",
      "met=2Fe2S_a:   0%|          | 0/86 [00:00<?, ?it/s]"
     ]
    },
    {
     "name": "stdout",
     "output_type": "stream",
     "text": [
      "Min network method detected: min+1\n",
      "Produced 20.0 with 1086 reactions deactivated\n",
      "Produced 20.0 with 1086 reactions deactivated\n",
      "Produced 20.0 with 1086 reactions deactivated\n"
     ]
    },
    {
     "name": "stderr",
     "output_type": "stream",
     "text": [
      "met=2Fe2S_m:   1%|          | 1/86 [00:02<04:13,  2.98s/it]"
     ]
    },
    {
     "name": "stdout",
     "output_type": "stream",
     "text": [
      "Produced 20.0 with 882 reactions deactivated\n",
      "Produced 20.0 with 882 reactions deactivated\n",
      "Produced 20.0 with 882 reactions deactivated\n"
     ]
    },
    {
     "name": "stderr",
     "output_type": "stream",
     "text": [
      "met=4Fe4S_a:   2%|▏         | 2/86 [00:05<03:52,  2.77s/it]"
     ]
    },
    {
     "name": "stdout",
     "output_type": "stream",
     "text": [
      "Produced 10.0 with 760 reactions deactivated\n",
      "Produced 10.0 with 760 reactions deactivated\n",
      "Produced 10.0 with 760 reactions deactivated\n"
     ]
    },
    {
     "name": "stderr",
     "output_type": "stream",
     "text": [
      "met=4Fe4S_m:   3%|▎         | 3/86 [00:08<03:58,  2.88s/it]"
     ]
    },
    {
     "name": "stdout",
     "output_type": "stream",
     "text": [
      "Produced 16.666666666666668 with 1260 reactions deactivated\n",
      "Produced 16.666666666666668 with 1260 reactions deactivated\n",
      "Produced 16.666666666666668 with 1260 reactions deactivated\n"
     ]
    },
    {
     "name": "stderr",
     "output_type": "stream",
     "text": [
      "met=C00001_c:   5%|▍         | 4/86 [00:11<03:49,  2.80s/it]"
     ]
    },
    {
     "name": "stdout",
     "output_type": "stream",
     "text": [
      "Produced 470.3145509859155 with 4097 reactions deactivated\n",
      "Produced 470.3145509859155 with 4097 reactions deactivated\n",
      "Produced 470.3145509859155 with 4097 reactions deactivated\n"
     ]
    },
    {
     "name": "stderr",
     "output_type": "stream",
     "text": [
      "met=C00002_c:   6%|▌         | 5/86 [00:15<04:39,  3.45s/it]"
     ]
    },
    {
     "name": "stdout",
     "output_type": "stream",
     "text": [
      "Produced 0.007200000000000273 with 0 reactions deactivated\n",
      "Produced 0.007200000000000273 with 0 reactions deactivated\n",
      "Produced 0.007200000000000273 with 0 reactions deactivated\n"
     ]
    },
    {
     "name": "stderr",
     "output_type": "stream",
     "text": [
      "met=C00003_c:   7%|▋         | 6/86 [00:18<04:25,  3.32s/it]"
     ]
    },
    {
     "name": "stdout",
     "output_type": "stream",
     "text": [
      "Produced 0.007199999999999835 with 0 reactions deactivated\n",
      "Produced 0.007199999999999835 with 0 reactions deactivated\n",
      "Produced 0.007199999999999835 with 0 reactions deactivated\n"
     ]
    },
    {
     "name": "stderr",
     "output_type": "stream",
     "text": [
      "met=C00004_c:   8%|▊         | 7/86 [00:22<04:29,  3.41s/it]"
     ]
    },
    {
     "name": "stdout",
     "output_type": "stream",
     "text": [
      "Produced 0.0072000000000000015 with 0 reactions deactivated\n",
      "Produced 0.0072000000000000015 with 0 reactions deactivated\n",
      "Produced 0.0072000000000000015 with 0 reactions deactivated\n"
     ]
    },
    {
     "name": "stderr",
     "output_type": "stream",
     "text": [
      "met=C00005_c:   9%|▉         | 8/86 [00:25<04:25,  3.40s/it]"
     ]
    },
    {
     "name": "stdout",
     "output_type": "stream",
     "text": [
      "Produced 0.007200000000000007 with 0 reactions deactivated\n",
      "Produced 0.007200000000000007 with 0 reactions deactivated\n",
      "Produced 0.007200000000000007 with 0 reactions deactivated\n"
     ]
    },
    {
     "name": "stderr",
     "output_type": "stream",
     "text": [
      "met=C00006_c:  10%|█         | 9/86 [00:29<04:32,  3.54s/it]"
     ]
    },
    {
     "name": "stdout",
     "output_type": "stream",
     "text": [
      "Produced 0.007200000000000007 with 0 reactions deactivated\n",
      "Produced 0.007200000000000007 with 0 reactions deactivated\n",
      "Produced 0.007200000000000007 with 0 reactions deactivated\n"
     ]
    },
    {
     "name": "stderr",
     "output_type": "stream",
     "text": [
      "met=C00010_c:  12%|█▏        | 10/86 [00:32<04:19,  3.42s/it]"
     ]
    },
    {
     "name": "stdout",
     "output_type": "stream",
     "text": [
      "Produced 0.00720000000000005 with 0 reactions deactivated\n",
      "Produced 0.00720000000000005 with 0 reactions deactivated\n",
      "Produced 0.00720000000000005 with 0 reactions deactivated\n"
     ]
    },
    {
     "name": "stderr",
     "output_type": "stream",
     "text": [
      "met=C00013_c:  13%|█▎        | 11/86 [00:35<04:07,  3.30s/it]"
     ]
    },
    {
     "name": "stdout",
     "output_type": "stream",
     "text": [
      "Produced 60.0 with 538 reactions deactivated\n",
      "Produced 60.0 with 538 reactions deactivated\n",
      "Produced 60.0 with 538 reactions deactivated\n"
     ]
    },
    {
     "name": "stderr",
     "output_type": "stream",
     "text": [
      "met=C00014_c:  14%|█▍        | 12/86 [00:39<04:00,  3.26s/it]"
     ]
    }
   ],
   "source": [
    "path_to_params = path_to_params = '../input/Minea_parameter_ipbe.yaml'\n",
    "task_enrich = TaskEnrichment(ipbe_blood,path_to_params,params_rxns)\n",
    "task_enrich.run()"
   ]
  },
  {
   "cell_type": "code",
   "execution_count": null,
   "id": "3ab7ae19-c6c8-4642-8325-d4b140b51c76",
   "metadata": {},
   "outputs": [],
   "source": []
  }
 ],
 "metadata": {
  "kernelspec": {
   "display_name": "test37",
   "language": "python",
   "name": "python3"
  },
  "language_info": {
   "codemirror_mode": {
    "name": "ipython",
    "version": 3
   },
   "file_extension": ".py",
   "mimetype": "text/x-python",
   "name": "python",
   "nbconvert_exporter": "python",
   "pygments_lexer": "ipython3",
   "version": "3.7.12"
  }
 },
 "nbformat": 4,
 "nbformat_minor": 5
}
