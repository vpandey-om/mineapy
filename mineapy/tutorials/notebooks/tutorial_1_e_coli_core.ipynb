{
 "cells": [
  {
   "cell_type": "code",
   "execution_count": 8,
   "id": "f2ab4c84-fc71-47f7-819b-a6949b4f81c8",
   "metadata": {},
   "outputs": [],
   "source": [
    "# import libraries \n",
    "import mineapy\n",
    "from cobra.io import load_matlab_model\n",
    "import pandas as pd\n",
    "from mineapy.core.taskEnrich import TaskEnrichment\n",
    "from mineapy.core.thermo_model import ThermoModel_WithoutInfo\n",
    "from mineapy.core.rxnExp import ReactionExp\n",
    "import sys\n",
    "import os\n",
    "\n",
    "# Add the path to the tutorials directory to sys.path\n",
    "sys.path.append(os.path.abspath(os.path.join('..')))\n",
    "\n",
    "#print(os.path.abspath(os.path.join('..')))\n",
    "from data_utility import getErythromycin_data"
   ]
  },
  {
   "cell_type": "markdown",
   "id": "a45d2cc9-3e8e-4371-863d-264436068063",
   "metadata": {},
   "source": [
    "## Data Analysis Using MiNEApy (Core Metabolic Model)\n",
    "\n",
    "This tutorial demonstrates the application of Minimum Network Enrichment Analysis (MiNEA) using the MiNEApy package, utilizing transcriptomic data from a study on the response of Escherichia coli (E. coli) to erythromycin, an antibiotic ([Bie et al., 2023](https://www.ncbi.nlm.nih.gov/pmc/articles/PMC10100721/)). The analysis is divided into two parts:\n",
    "\n",
    "1. [**Effect of Erythromycin on Gene Regulation:**](#effect-of-erythromycin-on-gene-regulation)\n",
    "Gene expression levels from erythromycin-treated cells are compared with control cells to identify upregulated and downregulated metabolic networks in the genome-scale model.\n",
    "   \n",
    "2. [**FPKM Values and Network Enrichment:**](#fpkm-values-and-network-enrichment)  \n",
    "The second analysis uses FPKM (Fragments Per Kilobase of transcript per Million mapped reads) values from the erythromycin-treated group to identify networks enriched by highly expressed genes. This method minimizes the influence of low-expression genes, demonstrating how MiNEApy enriches networks based on transcriptional responses under antibiotic stress.\n",
    "\n",
    "These analyses provide insights into gene expression and network-level responses to antibiotic stress, illustrating how MiNEApy can be applied to systems biology research.\n"
   ]
  },
  {
   "cell_type": "markdown",
   "id": "a01a9320-8c7b-415b-9b31-e5fd516eaf15",
   "metadata": {},
   "source": [
    "<a name=\"effect-of-erythromycin-on-gene-regulation\"></a>\n",
    "### 1. Effect of Erythromycin on Gene Regulation\n",
    "To achieve this analysis step by step:\n",
    "- Load the gene expression data to identify the up- and down-regulated genes.\n",
    "- Map the genes to reactions using Gene-Protein-Reaction (GPR) rules. Compute up- and down-regulated reactions based on the gene expression changes.\n",
    "- Compute minimal networks by tuning parameters in the MiNEApy tool. \n",
    "- Combine the identified reactions and minimal networks to perform enrichment analysis and discover which pathways or networks are significantly impacted by the antibiotic treatment."
   ]
  },
  {
   "cell_type": "code",
   "execution_count": 9,
   "id": "ddcbd161-722d-4a99-91ce-d235bf29da2a",
   "metadata": {},
   "outputs": [
    {
     "name": "stdout",
     "output_type": "stream",
     "text": [
      "     Gene_id  ERY_group_fpkm  log2FoldChange(ERYvsETH)  pval(ERYvsETH)  \\\n",
      "3      b0004      226.403292                  -0.48068    8.902500e-03   \n",
      "4      b0005       43.621743                  -1.36250    1.592700e-03   \n",
      "6      b0007        9.651617                  -0.96696    1.022300e-04   \n",
      "7      b0008     3325.924410                   1.17350    7.830000e-11   \n",
      "12     b0014     1091.185448                  -1.78210    1.500000e-12   \n",
      "...      ...             ...                       ...             ...   \n",
      "4477   b4691       40.244913                  -2.28000    7.070000e-17   \n",
      "4479   b4693        1.282623                  -1.85350    2.843400e-04   \n",
      "4482   b4696       11.717341                  -1.32330    2.900000e-11   \n",
      "4488   b4702      181.287835                   2.32600    2.270000e-08   \n",
      "4490   b4704      674.641886                  -2.47200    6.040000e-05   \n",
      "\n",
      "      padj(ERYvsETH) significant(ERYvsETH)  fold_change  \n",
      "3       2.142000e-02                  DOWN     0.716640  \n",
      "4       4.602300e-03                  DOWN     0.388908  \n",
      "6       3.873800e-04                  DOWN     0.511583  \n",
      "7       7.520000e-10                    UP     2.255582  \n",
      "12      1.760000e-11                  DOWN     0.290760  \n",
      "...              ...                   ...          ...  \n",
      "4477    1.380000e-15                  DOWN     0.205898  \n",
      "4479    9.766400e-04                  DOWN     0.276720  \n",
      "4482    2.910000e-10                  DOWN     0.399620  \n",
      "4488    1.610000e-07                    UP     5.014132  \n",
      "4490    2.411800e-04                  DOWN     0.180241  \n",
      "\n",
      "[2010 rows x 7 columns]\n"
     ]
    },
    {
     "name": "stderr",
     "output_type": "stream",
     "text": [
      "/Users/vpandey/opt/miniconda3/envs/test37/lib/python3.7/site-packages/ipykernel_launcher.py:10: SettingWithCopyWarning: \n",
      "A value is trying to be set on a copy of a slice from a DataFrame.\n",
      "Try using .loc[row_indexer,col_indexer] = value instead\n",
      "\n",
      "See the caveats in the documentation: https://pandas.pydata.org/pandas-docs/stable/user_guide/indexing.html#returning-a-view-versus-a-copy\n",
      "  # Remove the CWD from sys.path while we load stuff.\n"
     ]
    }
   ],
   "source": [
    "## load the gene expression data for gene expression   Erythromycin \n",
    "ery_df=getErythromycin_data()\n",
    "\n",
    "ery_df['significant(ERYvsETH)'].unique()\n",
    "# Convert the 'log2FoldChange(ERYvsETH)' column to numeric, coercing errors to NaN\n",
    "ery_df['log2FoldChange(ERYvsETH)'] = pd.to_numeric(ery_df['log2FoldChange(ERYvsETH)'], errors='coerce')\n",
    "\n",
    "## find up and down regulated genes \n",
    "up_down_df=ery_df[(ery_df['significant(ERYvsETH)']=='UP')|(ery_df['significant(ERYvsETH)']=='DOWN')]\n",
    "up_down_df['fold_change']=2 ** up_down_df['log2FoldChange(ERYvsETH)']\n",
    "\n",
    "print(up_down_df)\n"
   ]
  },
  {
   "cell_type": "code",
   "execution_count": 10,
   "id": "fb77a657-f8e0-4c22-9e77-2b8b9c70a96c",
   "metadata": {},
   "outputs": [],
   "source": [
    "# load core metabolic model of e_coli\n",
    "cobra_model= load_matlab_model('../models/e_coli_core.mat')\n",
    "genes=[g.id for g in cobra_model.genes] # this is the gene list"
   ]
  },
  {
   "cell_type": "code",
   "execution_count": 11,
   "id": "33c75178-b241-41a9-837f-0fc342b7f489",
   "metadata": {},
   "outputs": [
    {
     "name": "stderr",
     "output_type": "stream",
     "text": [
      "2024-10-10 09:36:45,503 - expression_logger - INFO - start analysis of comparison between conditions .....\n"
     ]
    },
    {
     "name": "stdout",
     "output_type": "stream",
     "text": [
      " gene value is not found or nan for the reaction = PFK\n",
      " gene value is not found or nan for the reaction = PFK\n",
      "why or_vals are empty\n",
      " gene value is not found or nan for the reaction = PFL\n",
      " gene value is not found or nan for the reaction = PFL\n",
      " gene value is not found or nan for the reaction = PGK\n",
      "why or_vals are empty\n",
      " gene value is not found or nan for the reaction = PGL\n",
      "why or_vals are empty\n",
      " gene value is not found or nan for the reaction = ACALD\n",
      " gene value is not found or nan for the reaction = PGM\n",
      " gene value is not found or nan for the reaction = PIt2r\n",
      " gene value is not found or nan for the reaction = ACALDt\n",
      "why or_vals are empty\n",
      " gene value is not found or nan for the reaction = ACKr\n",
      " gene value is not found or nan for the reaction = ACKr\n",
      " gene value is not found or nan for the reaction = PPC\n",
      "why or_vals are empty\n",
      " gene value is not found or nan for the reaction = ACONTa\n",
      " gene value is not found or nan for the reaction = ACONTb\n",
      " gene value is not found or nan for the reaction = PTAr\n",
      " gene value is not found or nan for the reaction = PYK\n",
      " gene value is not found or nan for the reaction = CO2t\n",
      "why or_vals are empty\n",
      " gene value is not found or nan for the reaction = RPE\n",
      " gene value is not found or nan for the reaction = CS\n",
      "why or_vals are empty\n",
      " gene value is not found or nan for the reaction = RPI\n",
      " gene value is not found or nan for the reaction = RPI\n",
      "why or_vals are empty\n",
      " gene value is not found or nan for the reaction = SUCOAS\n",
      "why or_vals are empty\n",
      " gene value is not found or nan for the reaction = TPI\n",
      "why or_vals are empty\n",
      " gene value is not found or nan for the reaction = FBA\n",
      " gene value is not found or nan for the reaction = FBP\n",
      " gene value is not found or nan for the reaction = FORt2\n",
      " gene value is not found or nan for the reaction = FORt\n",
      " gene value is not found or nan for the reaction = FUM\n",
      " gene value is not found or nan for the reaction = FUM\n",
      " gene value is not found or nan for the reaction = GLNS\n",
      " gene value is not found or nan for the reaction = GLNS\n",
      "why or_vals are empty\n",
      " gene value is not found or nan for the reaction = GLUDy\n",
      "why or_vals are empty\n",
      " gene value is not found or nan for the reaction = GLUN\n",
      " gene value is not found or nan for the reaction = GND\n",
      "why or_vals are empty\n",
      " gene value is not found or nan for the reaction = H2Ot\n",
      " gene value is not found or nan for the reaction = ICDHyr\n",
      "why or_vals are empty\n",
      " gene value is not found or nan for the reaction = LDH_D\n",
      " gene value is not found or nan for the reaction = MALS\n",
      " gene value is not found or nan for the reaction = MDH\n",
      "why or_vals are empty\n",
      " gene value is not found or nan for the reaction = ME1\n",
      "why or_vals are empty\n",
      " gene value is not found or nan for the reaction = ME2\n",
      "why or_vals are empty\n",
      " gene value is not found or nan for the reaction = NH4t\n",
      " gene value is not found or nan for the reaction = NH4t\n",
      "why or_vals are empty\n",
      " gene value is not found or nan for the reaction = O2t\n",
      "why or_vals are empty\n",
      "{'up_rxns': ['SUCDi', 'PTAr', 'GLUt2r', 'GLNabc', 'ADK1', 'PIt2r', 'ATPS4r', 'NADH16', 'RPE', 'SUCCt2_2', 'MALt2_2', 'FUMt2_2', 'D_LACt2', 'PPCK', 'GLUSy', 'FBP', 'NADTRHD', 'FUM', 'AKGt2r', 'AKGDH', 'THD2', 'TALA'], 'down_rxns': ['FRUpts2', 'GLCpts', 'G6PDH2r', 'PYK', 'MALS', 'GAPD', 'H2Ot', 'PGI', 'PPS', 'ENO', 'FBA', 'LDH_D', 'PGM', 'CYTBD', 'ICL', 'FRD7', 'PFL', 'ACONTb', 'ACONTa', 'ACALD', 'FORt', 'FORt2', 'ALCD2x', 'ACKr']}\n"
     ]
    }
   ],
   "source": [
    "### working with condition comparisons\n",
    "gene_reg={'gene_id':up_down_df['Gene_id'].to_list(),'fold_change':up_down_df['fold_change'].to_list(),'up_cutoff':1.1,'down_cutoff':0.9}\n",
    "\n",
    "reg_analysis=ReactionExp(cobra_model,gene_reg=gene_reg)\n",
    "reg_analysis\n",
    "params_rxns={'up_rxns':reg_analysis.up_rxns,'down_rxns':reg_analysis.down_rxns}\n",
    "print(params_rxns)"
   ]
  },
  {
   "cell_type": "markdown",
   "id": "7ce5a0d4-36d2-4fe9-823d-4f54414079db",
   "metadata": {},
   "source": [
    "### Configuring the `parameter.yaml` for MiNEA\n",
    "\n",
    "\n",
    "In this section, the process of configuring the `parameter.yaml` file for running MiNEA (Minimum Network Enrichment Analysis) is described. This file controls the behavior of the analysis and enables adjustments based on specific research requirements. Below is an example `parameter.yaml` configuration, with explanations for each parameters:\n",
    "\n",
    "\n",
    "```yaml\n",
    "# Biomass reactions: Specify the biomass reaction(s) used in your model.\n",
    "# Uncomment the lines below to define specific biomass reactions.\n",
    "biomass_rxns:\n",
    "    #- Biomass_Ecoli_core\n",
    "    #- Ec_biomass_iJO1366_WT_53p95M\n",
    "    - BIOMASS_Ecoli_core_w_GAM\n",
    "\n",
    "# Define the minimal growth rate required. Setting to 'auto' uses 95% \n",
    "# of the maximum growth rate determined by TFA or FBA.\n",
    "growth_rate: auto\n",
    "\n",
    "# Define the Metabolic Tasks (MTs). These are specific metabolites \n",
    "# for which you want to find the minimal networks.\n",
    "MTs: ['pyr_c', 'oaa_c','succ_c']\n",
    "\n",
    "# Use Building Blocks (BBB) as Metabolic Tasks if set to 'yes'. This computes minimal networks for each substrate in the biomass reaction.\n",
    "MT_BBB: yes\n",
    "\n",
    "# Define the medium composition. Specify which external metabolites \n",
    "# are available in the medium. Reactions not listed will retain \n",
    "# their model-defined bounds.\n",
    "medium:\n",
    "    #EX_glc__D_e: -10\n",
    "\n",
    "# Cofactor pairs: Specify pairs of cofactors that are to be balanced \n",
    "# during the analysis.\n",
    "cofactor_pairs:\n",
    "    - ['atp_c', 'adp_c']\n",
    "    - ['nad_c', 'nadh_c']\n",
    "    - ['nadp_c', 'nadph_c']\n",
    "    - ['accoa_c', 'coa_c']\n",
    "\n",
    "# Lump method: This parameter will alllow maximum number of network size. \n",
    "# Options include 'Min', 'Min+1', 'Min+30'.\n",
    "lump_method: Min+30\n",
    "\n",
    "# Maximum number of lumped reactions per metabolite or metabolic task. Only applicable \n",
    "# if 'Min' or 'Min+p' is selected as lump method. \n",
    "# It defines the number of alternative networks that can be obtained for each metabolite.\n",
    "max_lumps_per_BBB: 2\n",
    "\n",
    "# Diverge minimum: Specifies how much the solutions are allowed to deviate from the base solution. \n",
    "# A higher value permits more variation between solutions, indicating the number of reactions that can differ between consecutive solutions. publication: Rezola A, Pey J, de Figueiredo LF, Podhorski A, Schuster S, Rubio A, Planes FJ. Selection of human tissue-specific elementary flux modes using gene expression data. Bioinformatics. 2013 Aug 15;29(16):2009-16. doi: 10.1093/bioinformatics/btt328. Epub 2013 Jun 6. PMID: 23742984.\n",
    "diverge_min: 5  # default=1 \n",
    "\n",
    "# Solver options: Define which solver to use. 'auto' lets the program decide. 'gurobi', 'cplex','glpk' are the options. \n",
    "solver: auto\n",
    "\n",
    "# Force solving even if some tasks are infeasible.\n",
    "force_solve: False\n",
    "\n",
    "# Timeout: Maximum time (in minutes) allocated for solving each problem.\n",
    "timeout: 300\n",
    "\n",
    "# Feasibility tolerance: Define the precision for feasibility checks.\n",
    "feasibility: 1e-9\n",
    "\n",
    "# Constraint method: Choose how to handle constraints. Options \n",
    "# are 'flux', 'integer', or 'both'.\n",
    "constraint_method: both\n"
   ]
  },
  {
   "cell_type": "code",
   "execution_count": 12,
   "id": "351512d1-a44d-45b8-8283-2dc58d94f083",
   "metadata": {},
   "outputs": [],
   "source": [
    "# Modify parameters of MiNEA \n",
    "path_to_params = '../input/task_enrichment_params.yaml'"
   ]
  },
  {
   "cell_type": "code",
   "execution_count": 13,
   "id": "10120f17-3264-42c3-9b51-876c33347f06",
   "metadata": {},
   "outputs": [
    {
     "name": "stdout",
     "output_type": "stream",
     "text": [
      "Opened parameters file\n",
      "Read LP format model from file /var/folders/ty/spqw6k0n4dn1yvpgn_swvjm80000gn/T/tmpqk4qmbe2.lp\n",
      "Reading time = 0.00 seconds\n",
      ": 72 rows, 190 columns, 720 nonzeros\n",
      "Read LP format model from file /var/folders/ty/spqw6k0n4dn1yvpgn_swvjm80000gn/T/tmpxyyqk4j5.lp\n",
      "Reading time = 0.01 seconds\n",
      ": 72 rows, 190 columns, 720 nonzeros\n",
      "Read LP format model from file /var/folders/ty/spqw6k0n4dn1yvpgn_swvjm80000gn/T/tmpd_3jn429.lp\n",
      "Reading time = 0.00 seconds\n",
      ": 72 rows, 190 columns, 720 nonzeros\n"
     ]
    },
    {
     "name": "stderr",
     "output_type": "stream",
     "text": [
      "2024-10-10 09:36:46,008 - ME modelNone - INFO - # Model initialized \n",
      "2024-10-10 09:36:46,009 - ME modelNone - INFO - # Model conversion starting...\n",
      "2024-10-10 09:36:46,175 - ME modelNone - INFO - # Model conversion done.\n",
      "2024-10-10 09:36:46,176 - ME modelNone - INFO - # Updating cobra_model variables...\n",
      "2024-10-10 09:36:46,177 - ME modelNone - INFO - # cobra_model variables are up-to-date\n",
      "2024-10-10 09:36:46,178 - ME modelNone - INFO - Setting minimal growth rate to 95% of the TFA solution\n",
      "2024-10-10 09:36:46,187 - ME modelNone - INFO - Setting minimal growth rate to 0.8739215069684301\n",
      "2024-10-10 09:36:46,188 - ME modelNone - INFO - Using default sum_flux : False\n",
      "2024-10-10 09:36:46,188 - ME modelNone - INFO - Enumerating minmal networks ...\n",
      "/Users/vpandey/opt/miniconda3/envs/test37/lib/python3.7/site-packages/sympy/__init__.py:676: SymPyDeprecationWarning: \n",
      "\n",
      "importing sympy.core.numbers with 'from sympy import *' has been\n",
      "deprecated since SymPy 1.6. Use import sympy.core.numbers instead. See\n",
      "https://github.com/sympy/sympy/issues/18245 for more info.\n",
      "\n",
      "  deprecated_since_version=\"1.6\").warn()\n"
     ]
    },
    {
     "name": "stdout",
     "output_type": "stream",
     "text": [
      "Timeout limit is 300s\n"
     ]
    },
    {
     "name": "stderr",
     "output_type": "stream",
     "text": [
      "2024-10-10 09:36:46,460 - ME modelNone - WARNING - Cofactor pair atp_c/adp_c is equimolar in reaction BIOMASS_Ecoli_core_w_GAM\n",
      "2024-10-10 09:36:46,461 - ME modelNone - WARNING - Cofactor pair nad_c/nadh_c is equimolar in reaction BIOMASS_Ecoli_core_w_GAM\n",
      "2024-10-10 09:36:46,462 - ME modelNone - WARNING - Cofactor pair nadp_c/nadph_c is equimolar in reaction BIOMASS_Ecoli_core_w_GAM\n",
      "2024-10-10 09:36:46,463 - ME modelNone - WARNING - Cofactor pair accoa_c/coa_c is equimolar in reaction BIOMASS_Ecoli_core_w_GAM\n",
      "2024-10-10 09:36:46,472 - ME modelNone - INFO - # Model conversion starting...\n",
      "2024-10-10 09:36:46,595 - ME modelNone - INFO - # Model conversion done.\n",
      "2024-10-10 09:36:46,596 - ME modelNone - INFO - # Updating cobra_model variables...\n",
      "2024-10-10 09:36:46,598 - ME modelNone - INFO - # cobra_model variables are up-to-date\n",
      "met=gln__L_c:   0%|                                                                                                            | 0/13 [00:00<?, ?it/s]"
     ]
    },
    {
     "name": "stdout",
     "output_type": "stream",
     "text": [
      "Preparing metabolic tasks...\n",
      "Min network method detected: min+30\n",
      "Produced 8.0 with 66 reactions deactivated\n",
      "Produced 8.0 with 66 reactions deactivated\n",
      "Produced 8.0 with 66 reactions deactivated\n",
      "Produced 10.0 with 66 reactions deactivated\n",
      "Produced 8.0 with 65 reactions deactivated\n",
      "Produced 8.0 with 65 reactions deactivated\n",
      "Produced 8.0 with 65 reactions deactivated\n",
      "Produced 8.0 with 65 reactions deactivated\n",
      "Produced 8.0 with 65 reactions deactivated\n"
     ]
    },
    {
     "name": "stderr",
     "output_type": "stream",
     "text": [
      "met=glu__L_c:   8%|███████▋                                                                                            | 1/13 [00:02<00:28,  2.41s/it]"
     ]
    },
    {
     "name": "stdout",
     "output_type": "stream",
     "text": [
      "Produced 8.0 with 65 reactions deactivated\n",
      "Produced 8.0 with 67 reactions deactivated\n",
      "Produced 7.999999999999858 with 67 reactions deactivated\n",
      "Produced 10.00000000000075 with 67 reactions deactivated\n",
      "Produced 10.0000000000023 with 66 reactions deactivated\n",
      "Produced 8.0 with 66 reactions deactivated\n",
      "Produced 8.0 with 66 reactions deactivated\n",
      "Produced 8.0 with 66 reactions deactivated\n",
      "Produced 8.0 with 66 reactions deactivated\n",
      "Produced 8.0 with 66 reactions deactivated\n"
     ]
    },
    {
     "name": "stderr",
     "output_type": "stream",
     "text": [
      "met=h2o_c:  15%|███████████████▊                                                                                       | 2/13 [00:05<00:30,  2.80s/it]"
     ]
    },
    {
     "name": "stdout",
     "output_type": "stream",
     "text": [
      "Produced 8.0 with 66 reactions deactivated\n",
      "Produced 124.79999999999998 with 74 reactions deactivated\n",
      "Produced 124.79999999999998 with 73 reactions deactivated\n",
      "Produced 124.79999999999998 with 73 reactions deactivated\n",
      "Produced 124.79999999999998 with 73 reactions deactivated\n",
      "Produced 124.79999999999998 with 73 reactions deactivated\n",
      "Produced 124.79999999999998 with 73 reactions deactivated\n",
      "Produced 124.79999999999998 with 73 reactions deactivated\n",
      "Produced 124.79999999999998 with 73 reactions deactivated\n",
      "Produced 124.79999999999998 with 73 reactions deactivated\n"
     ]
    },
    {
     "name": "stderr",
     "output_type": "stream",
     "text": [
      "met=3pg_c:  23%|███████████████████████▊                                                                               | 3/13 [00:12<00:46,  4.64s/it]"
     ]
    },
    {
     "name": "stdout",
     "output_type": "stream",
     "text": [
      "Produced 124.79999999999998 with 73 reactions deactivated\n",
      "Produced 15.698666666666666 with 74 reactions deactivated\n",
      "Produced 15.698666666666666 with 73 reactions deactivated\n",
      "Produced 15.698666666666666 with 73 reactions deactivated\n",
      "Produced 15.698666666666666 with 73 reactions deactivated\n",
      "Produced 15.698666666666666 with 73 reactions deactivated\n",
      "Produced 15.698666666666666 with 73 reactions deactivated\n",
      "Produced 15.698666666666666 with 73 reactions deactivated\n",
      "Produced 15.698666666666666 with 73 reactions deactivated\n",
      "Produced 15.698666666666666 with 73 reactions deactivated\n"
     ]
    },
    {
     "name": "stderr",
     "output_type": "stream",
     "text": [
      "met=oaa_c:  31%|███████████████████████████████▋                                                                       | 4/13 [00:14<00:31,  3.51s/it]"
     ]
    },
    {
     "name": "stdout",
     "output_type": "stream",
     "text": [
      "Produced 15.698666666666666 with 73 reactions deactivated\n",
      "Produced 15.728799999999637 with 73 reactions deactivated\n",
      "Produced 15.728800000000001 with 72 reactions deactivated\n",
      "Produced 15.728799999999637 with 72 reactions deactivated\n",
      "Produced 15.728799999999637 with 72 reactions deactivated\n",
      "Produced 15.728799999999637 with 72 reactions deactivated\n",
      "Produced 15.728799999999637 with 72 reactions deactivated\n",
      "Produced 15.728799999999637 with 72 reactions deactivated\n",
      "Produced 15.728799999999637 with 72 reactions deactivated\n",
      "Produced 15.728799999999637 with 72 reactions deactivated\n"
     ]
    },
    {
     "name": "stderr",
     "output_type": "stream",
     "text": [
      "met=pep_c:  38%|███████████████████████████████████████▌                                                               | 5/13 [00:15<00:22,  2.83s/it]"
     ]
    },
    {
     "name": "stdout",
     "output_type": "stream",
     "text": [
      "Produced 15.728799999999637 with 72 reactions deactivated\n",
      "Produced 18.493333333333332 with 74 reactions deactivated\n",
      "Produced 15.69866666666903 with 73 reactions deactivated\n",
      "Produced 18.493333333333332 with 73 reactions deactivated\n",
      "Produced 18.493333333333332 with 73 reactions deactivated\n",
      "Produced 18.493333333333332 with 73 reactions deactivated\n",
      "Produced 18.493333333333332 with 73 reactions deactivated\n",
      "Produced 18.493333333333332 with 73 reactions deactivated\n",
      "Produced 18.493333333333332 with 73 reactions deactivated\n",
      "Produced 18.493333333333332 with 73 reactions deactivated\n"
     ]
    },
    {
     "name": "stderr",
     "output_type": "stream",
     "text": [
      "met=pyr_c:  46%|███████████████████████████████████████████████▌                                                       | 6/13 [00:17<00:16,  2.31s/it]"
     ]
    },
    {
     "name": "stdout",
     "output_type": "stream",
     "text": [
      "Produced 18.493333333333332 with 73 reactions deactivated\n",
      "Produced 16.0 with 77 reactions deactivated\n",
      "Produced 16.0 with 76 reactions deactivated\n",
      "Produced 16.0 with 76 reactions deactivated\n",
      "Produced 16.0 with 76 reactions deactivated\n",
      "Produced 16.0 with 76 reactions deactivated\n",
      "Produced 16.0 with 76 reactions deactivated\n",
      "Produced 16.0 with 76 reactions deactivated\n",
      "Produced 16.0 with 76 reactions deactivated\n"
     ]
    },
    {
     "name": "stderr",
     "output_type": "stream",
     "text": [
      "met=r5p_c:  54%|███████████████████████████████████████████████████████▍                                               | 7/13 [00:18<00:12,  2.06s/it]"
     ]
    },
    {
     "name": "stdout",
     "output_type": "stream",
     "text": [
      "Produced 16.0 with 76 reactions deactivated\n",
      "Produced 16.0 with 76 reactions deactivated\n",
      "Produced 8.073599999999999 with 71 reactions deactivated\n",
      "Produced 8.822000000000001 with 70 reactions deactivated\n",
      "Produced 8.073599999999999 with 70 reactions deactivated\n",
      "Produced 8.073599999999999 with 70 reactions deactivated\n",
      "Produced 8.073599999999999 with 70 reactions deactivated\n",
      "Produced 8.073599999999999 with 70 reactions deactivated\n",
      "Produced 8.073599999999999 with 70 reactions deactivated\n",
      "Produced 8.073599999999999 with 70 reactions deactivated\n",
      "Produced 8.073599999999999 with 70 reactions deactivated\n"
     ]
    },
    {
     "name": "stderr",
     "output_type": "stream",
     "text": [
      "met=e4p_c:  62%|███████████████████████████████████████████████████████████████▍                                       | 8/13 [00:22<00:13,  2.64s/it]"
     ]
    },
    {
     "name": "stdout",
     "output_type": "stream",
     "text": [
      "Produced 8.073599999999999 with 70 reactions deactivated\n",
      "Produced 9.914947368421053 with 72 reactions deactivated\n",
      "Produced 9.914947368421053 with 71 reactions deactivated\n",
      "Produced 9.914947368421021 with 71 reactions deactivated\n",
      "Produced 9.914947368421021 with 71 reactions deactivated\n",
      "Produced 9.914947368421021 with 71 reactions deactivated\n",
      "Produced 9.914947368421021 with 71 reactions deactivated\n",
      "Produced 9.914947368421021 with 71 reactions deactivated\n",
      "Produced 9.914947368421021 with 71 reactions deactivated\n"
     ]
    },
    {
     "name": "stderr",
     "output_type": "stream",
     "text": [
      "met=f6p_c:  69%|███████████████████████████████████████████████████████████████████████▎                               | 9/13 [00:24<00:09,  2.42s/it]"
     ]
    },
    {
     "name": "stdout",
     "output_type": "stream",
     "text": [
      "Produced 9.914947368421021 with 71 reactions deactivated\n",
      "Produced 9.914947368421021 with 71 reactions deactivated\n",
      "Produced 6.809060240963856 with 68 reactions deactivated\n",
      "Produced 6.8090602409638565 with 67 reactions deactivated\n",
      "Produced 6.809060240963856 with 67 reactions deactivated\n",
      "Produced 6.809060240963856 with 67 reactions deactivated\n",
      "Produced 6.809060240963856 with 67 reactions deactivated\n",
      "Produced 6.809060240963856 with 67 reactions deactivated\n",
      "Produced 6.809060240963856 with 67 reactions deactivated\n",
      "Produced 6.809060240963856 with 67 reactions deactivated\n",
      "Produced 6.809060240963856 with 67 reactions deactivated\n"
     ]
    },
    {
     "name": "stderr",
     "output_type": "stream",
     "text": [
      "met=g3p_c:  77%|██████████████████████████████████████████████████████████████████████████████▍                       | 10/13 [00:29<00:09,  3.32s/it]"
     ]
    },
    {
     "name": "stdout",
     "output_type": "stream",
     "text": [
      "Produced 6.809060240963856 with 67 reactions deactivated\n",
      "Produced 12.844363636363639 with 68 reactions deactivated\n",
      "Produced 13.571851851851852 with 67 reactions deactivated\n",
      "Produced 12.844363636363637 with 67 reactions deactivated\n",
      "Produced 12.844363636363637 with 67 reactions deactivated\n",
      "Produced 12.844363636363637 with 67 reactions deactivated\n",
      "Produced 12.844363636363637 with 67 reactions deactivated\n",
      "Produced 12.844363636363637 with 67 reactions deactivated\n",
      "Produced 12.844363636363637 with 67 reactions deactivated\n",
      "Produced 12.844363636363637 with 67 reactions deactivated\n"
     ]
    },
    {
     "name": "stderr",
     "output_type": "stream",
     "text": [
      "met=g6p_c:  85%|██████████████████████████████████████████████████████████████████████████████████████▎               | 11/13 [00:33<00:06,  3.36s/it]"
     ]
    },
    {
     "name": "stdout",
     "output_type": "stream",
     "text": [
      "Produced 12.844363636363637 with 67 reactions deactivated\n",
      "Produced 6.809060240963856 with 68 reactions deactivated\n",
      "Produced 6.809060240963856 with 67 reactions deactivated\n",
      "Produced 6.809060240963856 with 67 reactions deactivated\n",
      "Produced 6.809060240963856 with 67 reactions deactivated\n",
      "Produced 6.809060240963856 with 67 reactions deactivated\n",
      "Produced 6.809060240963856 with 67 reactions deactivated\n",
      "Produced 6.809060240963856 with 67 reactions deactivated\n",
      "Produced 6.809060240963856 with 67 reactions deactivated\n",
      "Produced 6.809060240963856 with 67 reactions deactivated\n"
     ]
    },
    {
     "name": "stderr",
     "output_type": "stream",
     "text": [
      "met=succ_c:  92%|█████████████████████████████████████████████████████████████████████████████████████████████▏       | 12/13 [00:39<00:04,  4.25s/it]"
     ]
    },
    {
     "name": "stdout",
     "output_type": "stream",
     "text": [
      "Produced 6.809060240963856 with 67 reactions deactivated\n",
      "Produced 13.386212765957447 with 68 reactions deactivated\n",
      "Produced 15.000000000000133 with 67 reactions deactivated\n",
      "Produced 13.386212765956316 with 67 reactions deactivated\n",
      "Produced 13.386212765956316 with 67 reactions deactivated\n",
      "Produced 13.386212765956316 with 67 reactions deactivated\n",
      "Produced 13.386212765956316 with 67 reactions deactivated\n",
      "Produced 13.386212765956316 with 67 reactions deactivated\n",
      "Produced 13.386212765956316 with 67 reactions deactivated\n",
      "Produced 13.386212765956316 with 67 reactions deactivated\n"
     ]
    },
    {
     "name": "stderr",
     "output_type": "stream",
     "text": [
      "met=succ_c: 100%|█████████████████████████████████████████████████████████████████████████████████████████████████████| 13/13 [00:44<00:00,  3.43s/it]\n",
      "2024-10-10 09:37:31,243 - ME modelNone - INFO - Enumeration is done. now save the result in pickle file\n",
      "2024-10-10 09:37:31,246 - ME modelNone - INFO - Enumerating minimal networks ...\n"
     ]
    },
    {
     "name": "stdout",
     "output_type": "stream",
     "text": [
      "Produced 13.386212765956316 with 67 reactions deactivated\n"
     ]
    }
   ],
   "source": [
    "# apply MiNEA with up and down regulated reactions\n",
    "task_enrich = TaskEnrichment(cobra_model,path_to_params,params_rxns)\n",
    "\n",
    "task_enrich.run()\n"
   ]
  },
  {
   "cell_type": "markdown",
   "id": "c7243569-8f66-4f0d-8c78-8d9d536e7995",
   "metadata": {},
   "source": [
    "### Output Files Generated by MiNEA with up and down regulated reactions\n",
    "\n",
    "Upon completing the Minimum Network Enrichment Analysis (MiNEA),  \n",
    "the algorithm will generate five key output files in the local directory  \n",
    "where the Jupyter notebook is executed. These files provide critical insights  \n",
    "into the metabolic tasks under study:\n",
    "\n",
    "1. **fva.pickle**:  \n",
    "   This file stores the results of the **Flux Variability Analysis (FVA)**  \n",
    "   conducted on the metabolic model. FVA helps determine the range of possible  \n",
    "   fluxes through each reaction under the given constraints, providing insight  \n",
    "   into the model's flexibility and possible reaction behaviors.\n",
    "\n",
    "2. **mins.pickle**:  \n",
    "   This file contains the **enumerated minimal networks** for each task.  \n",
    "   These minimal networks represent the smallest subsets of reactions that  \n",
    "   can carry out a specific metabolic task, offering a simplified view of  \n",
    "   the complex metabolic processes.\n",
    "\n",
    "3. **upregulated_rxns.txt**:  \n",
    "   This file contains the enrichment result tables for upregulated reactions.  \n",
    "   Each alternative minimal network is ranked based on p-values. The computation  \n",
    "   of p-values considers as many upregulated reactions as possible while  \n",
    "   minimizing the inclusion of downregulated reactions.\n",
    "\n",
    "4. **downregulated_rxns.txt**:  \n",
    "   This file contains the enrichment result tables for downregulated reactions.  \n",
    "   Similar to the upregulated reactions file, each alternative minimal network  \n",
    "   is ranked based on p-values. Here, the computation of p-values considers  \n",
    "   as many downregulated reactions as possible while minimizing the inclusion  \n",
    "   of upregulated reactions.\n",
    "\n",
    "5. **deregulated_rxns.txt**:  \n",
    "   This file contains the enrichment result tables for deregulated reactions.  \n",
    "   In this analysis, both upregulated and downregulated reactions are considered  \n",
    "   together without focusing on the direction of regulation. The p-values reflect  \n",
    "   the inclusion of both reaction types, offering a comprehensive view of  \n",
    "   the deregulation occurring in the metabolic network.\n"
   ]
  },
  {
   "cell_type": "markdown",
   "id": "9b44e4f6-05c6-4b5d-8d39-1207e40bb259",
   "metadata": {},
   "source": [
    "<a name=\"fpkm-values-and-network-enrichment\"></a>\n",
    "### 2. FPKM Values and Network Enrichment\n",
    "To achieve this analysis step by step:\n",
    "- Load the gene expression data to identify the high- and low-expressed gene genes.\n",
    "- Using Gene-Protein-Reaction (GPR) rules, compute high- and low-expressed reactions based on the gene expression.\n",
    "- Compute minimal networks by tuning parameters in the MiNEApy tool. \n",
    "- Combine high- and low-expressed reactions  and minimal networks to perform enrichment analysis and discover which pathways or networks are significantly enriched by high-expressed reactions.\n",
    "- publication:\n",
    "1. Rezola A, Pey J, de Figueiredo LF, Podhorski A, Schuster S, Rubio A, Planes FJ. Selection of human tissue-specific elementary flux modes using gene expression data. Bioinformatics. 2013 Aug 15;29(16):2009-16. doi: 10.1093/bioinformatics/btt328. Epub 2013 Jun 6. PMID: 23742984.\n",
    "2. Pandey V, Hatzimanikatis V. Investigating the deregulation of metabolic tasks via Minimum Network Enrichment Analysis (MiNEA) as applied to nonalcoholic fatty liver disease using mouse and human omics data. PLoS Comput Biol. 2019 Apr 19;15(4):e1006760. doi: 10.1371/journal.pcbi.1006760. PMID: 31002661; PMCID: PMC6493771. "
   ]
  },
  {
   "cell_type": "code",
   "execution_count": 14,
   "id": "b02ef5dc-f399-45ff-833a-9de66aafc06a",
   "metadata": {},
   "outputs": [
    {
     "name": "stderr",
     "output_type": "stream",
     "text": [
      "2024-10-10 09:37:32,020 - expression_logger - INFO - start analysis of context (tissue-specific).....\n"
     ]
    },
    {
     "name": "stdout",
     "output_type": "stream",
     "text": [
      " gene value is not found or nan for the reaction = ACALDt\n",
      "why or_vals are empty\n",
      " gene value is not found or nan for the reaction = CO2t\n",
      "why or_vals are empty\n",
      " gene value is not found or nan for the reaction = H2Ot\n",
      " gene value is not found or nan for the reaction = NH4t\n",
      " gene value is not found or nan for the reaction = O2t\n",
      "why or_vals are empty\n",
      "Opened parameters file\n",
      "Read LP format model from file /var/folders/ty/spqw6k0n4dn1yvpgn_swvjm80000gn/T/tmpef4hkpxh.lp\n",
      "Reading time = 0.00 seconds\n",
      ": 72 rows, 190 columns, 720 nonzeros\n",
      "Read LP format model from file /var/folders/ty/spqw6k0n4dn1yvpgn_swvjm80000gn/T/tmpjwoox7li.lp\n",
      "Reading time = 0.00 seconds\n",
      ": 72 rows, 190 columns, 720 nonzeros\n",
      "Read LP format model from file /var/folders/ty/spqw6k0n4dn1yvpgn_swvjm80000gn/T/tmpzd4ylxwn.lp\n",
      "Reading time = 0.00 seconds\n",
      ": 72 rows, 190 columns, 720 nonzeros\n"
     ]
    },
    {
     "name": "stderr",
     "output_type": "stream",
     "text": [
      "2024-10-10 09:37:32,567 - ME modelNone - INFO - # Model initialized \n",
      "2024-10-10 09:37:32,568 - ME modelNone - INFO - # Model conversion starting...\n",
      "2024-10-10 09:37:32,740 - ME modelNone - INFO - # Model conversion done.\n",
      "2024-10-10 09:37:32,740 - ME modelNone - INFO - # Updating cobra_model variables...\n",
      "2024-10-10 09:37:32,742 - ME modelNone - INFO - # cobra_model variables are up-to-date\n",
      "2024-10-10 09:37:32,742 - ME modelNone - INFO - Setting minimal growth rate to 95% of the TFA solution\n",
      "2024-10-10 09:37:32,752 - ME modelNone - INFO - Setting minimal growth rate to 0.8739215069684301\n",
      "2024-10-10 09:37:32,753 - ME modelNone - INFO - Using default sum_flux : False\n",
      "2024-10-10 09:37:32,753 - ME modelNone - INFO - Enumerating minmal networks ...\n",
      "2024-10-10 09:37:32,914 - ME modelNone - WARNING - Cofactor pair atp_c/adp_c is equimolar in reaction BIOMASS_Ecoli_core_w_GAM\n",
      "2024-10-10 09:37:32,915 - ME modelNone - WARNING - Cofactor pair nad_c/nadh_c is equimolar in reaction BIOMASS_Ecoli_core_w_GAM\n",
      "2024-10-10 09:37:32,915 - ME modelNone - WARNING - Cofactor pair nadp_c/nadph_c is equimolar in reaction BIOMASS_Ecoli_core_w_GAM\n",
      "2024-10-10 09:37:32,916 - ME modelNone - WARNING - Cofactor pair accoa_c/coa_c is equimolar in reaction BIOMASS_Ecoli_core_w_GAM\n",
      "2024-10-10 09:37:32,925 - ME modelNone - INFO - # Model conversion starting...\n"
     ]
    },
    {
     "name": "stdout",
     "output_type": "stream",
     "text": [
      "Timeout limit is 300s\n",
      "Preparing metabolic tasks...\n"
     ]
    },
    {
     "name": "stderr",
     "output_type": "stream",
     "text": [
      "2024-10-10 09:37:33,051 - ME modelNone - INFO - # Model conversion done.\n",
      "2024-10-10 09:37:33,051 - ME modelNone - INFO - # Updating cobra_model variables...\n",
      "2024-10-10 09:37:33,054 - ME modelNone - INFO - # cobra_model variables are up-to-date\n",
      "met=gln__L_c:   0%|                                                                                                            | 0/13 [00:00<?, ?it/s]"
     ]
    },
    {
     "name": "stdout",
     "output_type": "stream",
     "text": [
      "Min network method detected: min+30\n",
      "Produced 8.0 with 66 reactions deactivated\n",
      "Produced 8.0 with 66 reactions deactivated\n",
      "Produced 8.0 with 66 reactions deactivated\n",
      "Produced 10.0 with 66 reactions deactivated\n",
      "Produced 8.0 with 65 reactions deactivated\n",
      "Produced 8.0 with 65 reactions deactivated\n",
      "Produced 8.0 with 65 reactions deactivated\n",
      "Produced 8.0 with 65 reactions deactivated\n",
      "Produced 8.0 with 65 reactions deactivated\n"
     ]
    },
    {
     "name": "stderr",
     "output_type": "stream",
     "text": [
      "met=glu__L_c:   8%|███████▋                                                                                            | 1/13 [00:02<00:24,  2.06s/it]"
     ]
    },
    {
     "name": "stdout",
     "output_type": "stream",
     "text": [
      "Produced 8.0 with 65 reactions deactivated\n",
      "Produced 8.0 with 67 reactions deactivated\n",
      "Produced 7.999999999999858 with 67 reactions deactivated\n",
      "Produced 10.00000000000075 with 67 reactions deactivated\n",
      "Produced 10.0000000000023 with 66 reactions deactivated\n",
      "Produced 8.0 with 66 reactions deactivated\n",
      "Produced 8.0 with 66 reactions deactivated\n",
      "Produced 8.0 with 66 reactions deactivated\n",
      "Produced 8.0 with 66 reactions deactivated\n",
      "Produced 8.0 with 66 reactions deactivated\n"
     ]
    },
    {
     "name": "stderr",
     "output_type": "stream",
     "text": [
      "met=h2o_c:  15%|███████████████▊                                                                                       | 2/13 [00:04<00:24,  2.23s/it]"
     ]
    },
    {
     "name": "stdout",
     "output_type": "stream",
     "text": [
      "Produced 8.0 with 66 reactions deactivated\n",
      "Produced 124.79999999999998 with 74 reactions deactivated\n",
      "Produced 124.79999999999998 with 73 reactions deactivated\n",
      "Produced 124.79999999999998 with 73 reactions deactivated\n",
      "Produced 124.79999999999998 with 73 reactions deactivated\n",
      "Produced 124.79999999999998 with 73 reactions deactivated\n",
      "Produced 124.79999999999998 with 73 reactions deactivated\n",
      "Produced 124.79999999999998 with 73 reactions deactivated\n",
      "Produced 124.79999999999998 with 73 reactions deactivated\n",
      "Produced 124.79999999999998 with 73 reactions deactivated\n"
     ]
    },
    {
     "name": "stderr",
     "output_type": "stream",
     "text": [
      "met=3pg_c:  23%|███████████████████████▊                                                                               | 3/13 [00:10<00:38,  3.84s/it]"
     ]
    },
    {
     "name": "stdout",
     "output_type": "stream",
     "text": [
      "Produced 124.79999999999998 with 73 reactions deactivated\n",
      "Produced 15.698666666666666 with 74 reactions deactivated\n",
      "Produced 15.698666666666666 with 73 reactions deactivated\n",
      "Produced 15.698666666666666 with 73 reactions deactivated\n",
      "Produced 15.698666666666666 with 73 reactions deactivated\n",
      "Produced 15.698666666666666 with 73 reactions deactivated\n",
      "Produced 15.698666666666666 with 73 reactions deactivated\n",
      "Produced 15.698666666666666 with 73 reactions deactivated\n",
      "Produced 15.698666666666666 with 73 reactions deactivated\n",
      "Produced 15.698666666666666 with 73 reactions deactivated\n"
     ]
    },
    {
     "name": "stderr",
     "output_type": "stream",
     "text": [
      "met=oaa_c:  31%|███████████████████████████████▋                                                                       | 4/13 [00:11<00:26,  2.96s/it]"
     ]
    },
    {
     "name": "stdout",
     "output_type": "stream",
     "text": [
      "Produced 15.698666666666666 with 73 reactions deactivated\n",
      "Produced 15.728799999999637 with 73 reactions deactivated\n",
      "Produced 15.728800000000001 with 72 reactions deactivated\n",
      "Produced 15.728799999999637 with 72 reactions deactivated\n",
      "Produced 15.728799999999637 with 72 reactions deactivated\n",
      "Produced 15.728799999999637 with 72 reactions deactivated\n",
      "Produced 15.728799999999637 with 72 reactions deactivated\n",
      "Produced 15.728799999999637 with 72 reactions deactivated\n",
      "Produced 15.728799999999637 with 72 reactions deactivated\n"
     ]
    },
    {
     "name": "stderr",
     "output_type": "stream",
     "text": [
      "met=pep_c:  38%|███████████████████████████████████████▌                                                               | 5/13 [00:13<00:19,  2.48s/it]"
     ]
    },
    {
     "name": "stdout",
     "output_type": "stream",
     "text": [
      "Produced 15.728799999999637 with 72 reactions deactivated\n",
      "Produced 15.728799999999637 with 72 reactions deactivated\n",
      "Produced 18.493333333333332 with 74 reactions deactivated\n",
      "Produced 15.69866666666903 with 73 reactions deactivated\n",
      "Produced 18.493333333333332 with 73 reactions deactivated\n",
      "Produced 18.493333333333332 with 73 reactions deactivated\n",
      "Produced 18.493333333333332 with 73 reactions deactivated\n",
      "Produced 18.493333333333332 with 73 reactions deactivated\n",
      "Produced 18.493333333333332 with 73 reactions deactivated\n",
      "Produced 18.493333333333332 with 73 reactions deactivated\n",
      "Produced 18.493333333333332 with 73 reactions deactivated\n"
     ]
    },
    {
     "name": "stderr",
     "output_type": "stream",
     "text": [
      "met=pyr_c:  46%|███████████████████████████████████████████████▌                                                       | 6/13 [00:14<00:14,  2.08s/it]"
     ]
    },
    {
     "name": "stdout",
     "output_type": "stream",
     "text": [
      "Produced 18.493333333333332 with 73 reactions deactivated\n",
      "Produced 16.0 with 77 reactions deactivated\n",
      "Produced 16.0 with 76 reactions deactivated\n",
      "Produced 16.0 with 76 reactions deactivated\n",
      "Produced 16.0 with 76 reactions deactivated\n",
      "Produced 16.0 with 76 reactions deactivated\n",
      "Produced 16.0 with 76 reactions deactivated\n",
      "Produced 16.0 with 76 reactions deactivated\n",
      "Produced 16.0 with 76 reactions deactivated\n"
     ]
    },
    {
     "name": "stderr",
     "output_type": "stream",
     "text": [
      "met=r5p_c:  54%|███████████████████████████████████████████████████████▍                                               | 7/13 [00:15<00:10,  1.81s/it]"
     ]
    },
    {
     "name": "stdout",
     "output_type": "stream",
     "text": [
      "Produced 16.0 with 76 reactions deactivated\n",
      "Produced 16.0 with 76 reactions deactivated\n",
      "Produced 8.073599999999999 with 71 reactions deactivated\n",
      "Produced 8.822000000000001 with 70 reactions deactivated\n",
      "Produced 8.073599999999999 with 70 reactions deactivated\n",
      "Produced 8.073599999999999 with 70 reactions deactivated\n",
      "Produced 8.073599999999999 with 70 reactions deactivated\n",
      "Produced 8.073599999999999 with 70 reactions deactivated\n",
      "Produced 8.073599999999999 with 70 reactions deactivated\n",
      "Produced 8.073599999999999 with 70 reactions deactivated\n",
      "Produced 8.073599999999999 with 70 reactions deactivated\n"
     ]
    },
    {
     "name": "stderr",
     "output_type": "stream",
     "text": [
      "met=e4p_c:  62%|███████████████████████████████████████████████████████████████▍                                       | 8/13 [00:19<00:11,  2.39s/it]"
     ]
    },
    {
     "name": "stdout",
     "output_type": "stream",
     "text": [
      "Produced 8.073599999999999 with 70 reactions deactivated\n",
      "Produced 9.914947368421053 with 72 reactions deactivated\n",
      "Produced 9.914947368421053 with 71 reactions deactivated\n",
      "Produced 9.914947368421021 with 71 reactions deactivated\n",
      "Produced 9.914947368421021 with 71 reactions deactivated\n",
      "Produced 9.914947368421021 with 71 reactions deactivated\n",
      "Produced 9.914947368421021 with 71 reactions deactivated\n",
      "Produced 9.914947368421021 with 71 reactions deactivated\n",
      "Produced 9.914947368421021 with 71 reactions deactivated\n",
      "Produced 9.914947368421021 with 71 reactions deactivated\n"
     ]
    },
    {
     "name": "stderr",
     "output_type": "stream",
     "text": [
      "met=f6p_c:  69%|███████████████████████████████████████████████████████████████████████▎                               | 9/13 [00:21<00:08,  2.23s/it]"
     ]
    },
    {
     "name": "stdout",
     "output_type": "stream",
     "text": [
      "Produced 9.914947368421021 with 71 reactions deactivated\n",
      "Produced 6.809060240963856 with 68 reactions deactivated\n",
      "Produced 6.8090602409638565 with 67 reactions deactivated\n",
      "Produced 6.809060240963856 with 67 reactions deactivated\n",
      "Produced 6.809060240963856 with 67 reactions deactivated\n",
      "Produced 6.809060240963856 with 67 reactions deactivated\n",
      "Produced 6.809060240963856 with 67 reactions deactivated\n",
      "Produced 6.809060240963856 with 67 reactions deactivated\n",
      "Produced 6.809060240963856 with 67 reactions deactivated\n",
      "Produced 6.809060240963856 with 67 reactions deactivated\n"
     ]
    },
    {
     "name": "stderr",
     "output_type": "stream",
     "text": [
      "met=g3p_c:  77%|██████████████████████████████████████████████████████████████████████████████▍                       | 10/13 [00:27<00:09,  3.30s/it]"
     ]
    },
    {
     "name": "stdout",
     "output_type": "stream",
     "text": [
      "Produced 6.809060240963856 with 67 reactions deactivated\n",
      "Produced 12.844363636363639 with 68 reactions deactivated\n",
      "Produced 13.571851851851852 with 67 reactions deactivated\n",
      "Produced 12.844363636363637 with 67 reactions deactivated\n",
      "Produced 12.844363636363637 with 67 reactions deactivated\n",
      "Produced 12.844363636363637 with 67 reactions deactivated\n",
      "Produced 12.844363636363637 with 67 reactions deactivated\n",
      "Produced 12.844363636363637 with 67 reactions deactivated\n",
      "Produced 12.844363636363637 with 67 reactions deactivated\n",
      "Produced 12.844363636363637 with 67 reactions deactivated\n"
     ]
    },
    {
     "name": "stderr",
     "output_type": "stream",
     "text": [
      "met=g6p_c:  85%|██████████████████████████████████████████████████████████████████████████████████████▎               | 11/13 [00:30<00:06,  3.44s/it]"
     ]
    },
    {
     "name": "stdout",
     "output_type": "stream",
     "text": [
      "Produced 12.844363636363637 with 67 reactions deactivated\n",
      "Produced 6.809060240963856 with 68 reactions deactivated\n",
      "Produced 6.809060240963856 with 67 reactions deactivated\n",
      "Produced 6.809060240963856 with 67 reactions deactivated\n",
      "Produced 6.809060240963856 with 67 reactions deactivated\n",
      "Produced 6.809060240963856 with 67 reactions deactivated\n",
      "Produced 6.809060240963856 with 67 reactions deactivated\n",
      "Produced 6.809060240963856 with 67 reactions deactivated\n",
      "Produced 6.809060240963856 with 67 reactions deactivated\n",
      "Produced 6.809060240963856 with 67 reactions deactivated\n"
     ]
    },
    {
     "name": "stderr",
     "output_type": "stream",
     "text": [
      "met=succ_c:  92%|█████████████████████████████████████████████████████████████████████████████████████████████▏       | 12/13 [00:38<00:04,  4.64s/it]"
     ]
    },
    {
     "name": "stdout",
     "output_type": "stream",
     "text": [
      "Produced 6.809060240963856 with 67 reactions deactivated\n",
      "Produced 13.386212765957447 with 68 reactions deactivated\n",
      "Produced 15.000000000000133 with 67 reactions deactivated\n",
      "Produced 13.386212765956316 with 67 reactions deactivated\n",
      "Produced 13.386212765956316 with 67 reactions deactivated\n",
      "Produced 13.386212765956316 with 67 reactions deactivated\n",
      "Produced 13.386212765956316 with 67 reactions deactivated\n",
      "Produced 13.386212765956316 with 67 reactions deactivated\n",
      "Produced 13.386212765956316 with 67 reactions deactivated\n",
      "Produced 13.386212765956316 with 67 reactions deactivated\n"
     ]
    },
    {
     "name": "stderr",
     "output_type": "stream",
     "text": [
      "met=succ_c: 100%|█████████████████████████████████████████████████████████████████████████████████████████████████████| 13/13 [00:44<00:00,  3.42s/it]\n",
      "2024-10-10 09:38:17,544 - ME modelNone - INFO - Enumeration is done. now save the result in pickle file\n",
      "2024-10-10 09:38:17,547 - ME modelNone - INFO - Enumerating minimal networks ...\n"
     ]
    },
    {
     "name": "stdout",
     "output_type": "stream",
     "text": [
      "Produced 13.386212765956316 with 67 reactions deactivated\n"
     ]
    }
   ],
   "source": [
    "# run MiNEA for low and high expression reactions \n",
    "# A value of high_cutoff=0.15 indicates that the top 15% of highly expressed genes.\n",
    "# and the bottom 15% of lowly expressed genes will be selected when low_cutoff=0.15.\n",
    "gene_exp={'gene_id':ery_df['Gene_id'].to_list(),'exp_val':ery_df['ERY_group_fpkm'].to_list(),'high_cutoff':0.15,'low_cutoff':0.15}\n",
    "\n",
    "exp_analysis=ReactionExp(cobra_model,gene_exp=gene_exp)\n",
    "\n",
    "params_rxns={'high_rxns':exp_analysis.high_rxns,'low_rxns':exp_analysis.low_rxns}\n",
    "\n",
    "task_enrich = TaskEnrichment(cobra_model,path_to_params,params_rxns)\n",
    "\n",
    "task_enrich.run()"
   ]
  },
  {
   "cell_type": "markdown",
   "id": "4984f366-99df-4f6c-acf7-02d1ae6a1e22",
   "metadata": {},
   "source": [
    "### Output Files Generated by MiNEA with High and Low Expressed Reactions\n",
    "\n",
    "In addition to the output files previously described \n",
    "(fva.pickle and mins.pickle), which store the results of \n",
    "Flux Variability Analysis (FVA) and enumerated minimal networks \n",
    "respectively, MiNEA generates a third file focused on \n",
    "gene expression levels:\n",
    "\n",
    "3. **high_expressed_rxns.txt**:\n",
    "\n",
    "   This file contains the enrichment result tables \n",
    "   for highly expressed reactions. Each alternative \n",
    "   minimal network is ranked based on p-values. The \n",
    "   computation of p-values in this context prioritizes \n",
    "   the inclusion of as many high expressed reactions \n",
    "   as possible while minimizing the inclusion of low \n",
    "   expressed reactions. This type of network analysis \n",
    "   is particularly useful when identifying tissue-specific \n",
    "   metabolic networks or when trying to understand the \n",
    "   metabolic context of specific biological conditions.\n"
   ]
  },
  {
   "cell_type": "code",
   "execution_count": null,
   "id": "455320d9-20f0-46f6-9d0c-0b517f90f670",
   "metadata": {},
   "outputs": [],
   "source": []
  }
 ],
 "metadata": {
  "kernelspec": {
   "display_name": "Python 3.7 (test37)",
   "language": "python",
   "name": "test37"
  },
  "language_info": {
   "codemirror_mode": {
    "name": "ipython",
    "version": 3
   },
   "file_extension": ".py",
   "mimetype": "text/x-python",
   "name": "python",
   "nbconvert_exporter": "python",
   "pygments_lexer": "ipython3",
   "version": "3.7.12"
  }
 },
 "nbformat": 4,
 "nbformat_minor": 5
}
